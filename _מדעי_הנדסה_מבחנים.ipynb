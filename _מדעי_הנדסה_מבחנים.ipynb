{
 "nbformat": 4,
 "nbformat_minor": 0,
 "metadata": {
  "colab": {
   "provenance": [],
   "toc_visible": true
  },
  "kernelspec": {
   "name": "python3",
   "display_name": "Python 3"
  },
  "language_info": {
   "name": "python"
  }
 },
 "cells": [
  {
   "cell_type": "markdown",
   "source": [
    "# 2024"
   ],
   "metadata": {
    "id": "GainU_-__knP"
   }
  },
  {
   "cell_type": "markdown",
   "source": [
    "## שאלה 1"
   ],
   "metadata": {
    "id": "FiSnRitHCU4j"
   }
  },
  {
   "cell_type": "markdown",
   "source": [
    "### שאלה-1 א"
   ],
   "metadata": {
    "id": "gfJtjvrB-zI9"
   }
  },
  {
   "cell_type": "code",
   "metadata": {
    "id": "_OVyCd4T-rlo",
    "jupyter": {
     "is_executing": true
    }
   },
   "source": [
    "def myAverage(arr, i, j):\n",
    "\n",
    "  if i < 0 or j < 0 or len(arr) == 0 or i > len(arr) - 1 or j > len(arr) - 1:\n",
    "    return -1\n",
    "\n",
    "  if i == j:\n",
    "    return arr[i]\n",
    "\n",
    "\n",
    "  return sum(arr[i:j+1]) / (j - i + 1) if i < j else sum(arr[j:i+1]) / (i - j + 1)\n"
   ],
   "outputs": [],
   "execution_count": null
  },
  {
   "cell_type": "code",
   "source": [
    "a = [1, 2, 3, 4]\n",
    "print(myAverage([1, 2, 3, 4], 3, 0))\n",
    "print(myAverage([1, 2, 3, 4], 2, 3))\n",
    "print(myAverage([8, 2, 3   ], 1, 1))\n",
    "print(myAverage([8, 2, 3, 4], 1, 4))\n",
    "print(myAverage([1, 2, 3, 4], -3, -3))\n",
    "print(myAverage([], 0, 0))\n"
   ],
   "metadata": {
    "colab": {
     "base_uri": "https://localhost:8080/"
    },
    "id": "_98k0kSWA0Ik",
    "outputId": "841de2b3-2e66-4db7-b87f-9f12613e761c"
   },
   "execution_count": null,
   "outputs": [
    {
     "output_type": "stream",
     "name": "stdout",
     "text": [
      "2.5\n",
      "3.5\n",
      "2\n",
      "-1\n",
      "-1\n",
      "-1\n"
     ]
    }
   ]
  },
  {
   "cell_type": "markdown",
   "source": [
    "### שאלה-1 ב"
   ],
   "metadata": {
    "id": "fwohfa2jCDJp"
   }
  },
  {
   "cell_type": "code",
   "source": [
    "def isGoodStudent(grades):\n",
    "\n",
    "  avrgOfA = myAverage(grades, 0, int(len(grades)/2 - 1))\n",
    "  avrgOfB = myAverage(grades, int(len(grades)/2), len(grades) - 1)\n",
    "\n",
    "  if avrgOfA > avrgOfB:\n",
    "    return False\n",
    "\n",
    "  got100 = False\n",
    "  for grade in grades:\n",
    "    if grade == 100:\n",
    "      got100 = True\n",
    "      break\n",
    "\n",
    "  if not got100:\n",
    "    return False\n",
    "\n",
    "  for i in range(len(grades)):\n",
    "    if grades[i] <= 54 and i < (len(grades)-1) and grades[i+1] <= 54:\n",
    "      return False\n",
    "\n",
    "  return True\n"
   ],
   "metadata": {
    "id": "BVSA_URcCbVL"
   },
   "execution_count": null,
   "outputs": []
  },
  {
   "cell_type": "code",
   "source": [
    "grades = [60, 70, 77, 54, 100, 79]\n",
    "# myAverage(grades, 0, int((len(grades)/2) - 1))\n",
    "# myAverage(grades, len(grades)/2, len(grades) - 1)\n",
    "print(isGoodStudent([60, 70, 77, 54, 100, 79]))\n",
    "print(isGoodStudent([100, 100, 100, 100, 100, 100]))\n",
    "print(isGoodStudent([60, 70, 77, 54, 54, 79]))\n",
    "print(isGoodStudent([60, 70, 77, 54, 90, 79]))\n",
    "print(isGoodStudent([60, 70, 100, 54, 60, 79]))"
   ],
   "metadata": {
    "colab": {
     "base_uri": "https://localhost:8080/"
    },
    "id": "i3GFdRlgDmkX",
    "outputId": "e07373f4-7fb0-42c8-84bd-d6cea5826f09"
   },
   "execution_count": null,
   "outputs": [
    {
     "output_type": "stream",
     "name": "stdout",
     "text": [
      "True\n",
      "True\n",
      "False\n",
      "False\n",
      "False\n"
     ]
    }
   ]
  },
  {
   "cell_type": "markdown",
   "source": [
    "## שאלה 3"
   ],
   "metadata": {
    "id": "VWZSlHtcPHSS"
   }
  },
  {
   "cell_type": "markdown",
   "source": [
    "### שאלה-3 ג"
   ],
   "metadata": {
    "id": "wDvFq6LvPLXP"
   }
  },
  {
   "cell_type": "code",
   "source": [
    "def Vout(R, Vin, T):\n",
    "  if T < -200 or T > 500:\n",
    "    print(\"T is out of range\")\n",
    "    return -1\n",
    "\n",
    "  Rdt = 100 + (1/3) * T\n",
    "  return Rdt * Vin / (R + Rdt)"
   ],
   "metadata": {
    "id": "-T4xBYvsPSmq"
   },
   "execution_count": 4,
   "outputs": []
  },
  {
   "cell_type": "code",
   "source": [
    "import numpy as np\n",
    "R = 10e3\n",
    "Vin = 12\n",
    "T = 100\n",
    "print(f\"Vout of {T}c is: {Vout(R, Vin, T):0.2f}v\")\n",
    "T = 170\n",
    "print(f\"Vout of {T}c is: {Vout(R, Vin, T):0.2f}v\")"
   ],
   "metadata": {
    "colab": {
     "base_uri": "https://localhost:8080/"
    },
    "id": "ZlN60YG4R3sh",
    "outputId": "11dd06c5-dcca-4e41-fd0a-c581882017ac"
   },
   "execution_count": 13,
   "outputs": [
    {
     "output_type": "stream",
     "name": "stdout",
     "text": [
      "Vout of 100c is: 0.16v\n",
      "Vout of 170c is: 0.19v\n"
     ]
    }
   ]
  },
  {
   "cell_type": "markdown",
   "source": [
    "## שאלה 4"
   ],
   "metadata": {
    "id": "x_-59sJKUDBa"
   }
  },
  {
   "cell_type": "markdown",
   "source": [
    "### שאלה-4 ו"
   ],
   "metadata": {
    "id": "sLv9e2HMUTFG"
   }
  },
  {
   "cell_type": "code",
   "source": [
    "# Print Vout and X1\n",
    "def v_out(Vs, XT, R1, R2):\n",
    "  X1 = XT * R1/(R1+R2)\n",
    "  Vout = Vs * R1/(R1+R2)\n",
    "  return Vout, float(X1)"
   ],
   "metadata": {
    "id": "sMIQHpdiUZT6"
   },
   "execution_count": 49,
   "outputs": []
  },
  {
   "cell_type": "code",
   "source": [
    "Vs = 10\n",
    "RT = 1000\n",
    "X1 = float(3)\n",
    "XT = float(5)\n",
    "R1 = RT * X1/XT\n",
    "R2 = RT - R1"
   ],
   "metadata": {
    "id": "vuRFOnRnXFHh"
   },
   "execution_count": 37,
   "outputs": []
  },
  {
   "cell_type": "code",
   "source": [
    "print(f\"R1 is: {R1}ohm\")\n",
    "print(f\"R2 is: {R2}ohm\")\n",
    "print(f\"X1 is :{X1}\")\n",
    "print(f\"X2 is :{XT}\")\n",
    "\n",
    "Vout_, X_1 = v_out(Vs, XT, R1, R2)\n",
    "print(f\"Vout is: {Vout_}v\")\n",
    "print(f\"X1 is: {X_1}cm\")"
   ],
   "metadata": {
    "colab": {
     "base_uri": "https://localhost:8080/"
    },
    "id": "eYJq0i27Vry2",
    "outputId": "f8a2eb7d-302a-427e-d99c-52334eae07d2"
   },
   "execution_count": 50,
   "outputs": [
    {
     "output_type": "stream",
     "name": "stdout",
     "text": [
      "R1 is: 600.0ohm\n",
      "R2 is: 400.0ohm\n",
      "X1 is :3.0\n",
      "X2 is :5.0\n",
      "Vout is: 6.0v\n",
      "X1 is: 3.0cm\n"
     ]
    }
   ]
  }
 ]
}
